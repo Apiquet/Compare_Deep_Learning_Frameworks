{
  "nbformat": 4,
  "nbformat_minor": 0,
  "metadata": {
    "colab": {
      "provenance": []
    },
    "kernelspec": {
      "name": "python3",
      "display_name": "Python 3"
    },
    "language_info": {
      "name": "python"
    }
  },
  "cells": [
    {
      "cell_type": "markdown",
      "source": [
        "This notebook can be used in Google Colab\n",
        "\n",
        "It implements a CIFAR10 training using JAX Deep Learning framework"
      ],
      "metadata": {
        "id": "N-G7aU1jYcw4"
      }
    },
    {
      "cell_type": "code",
      "source": [
        "# This notebook is inspired from JAX mnist example\n",
        "# https://jax.readthedocs.io/en/latest/notebooks/neural_network_with_tfds_data.html"
      ],
      "metadata": {
        "id": "AEUhvygLYhoI"
      },
      "execution_count": 1,
      "outputs": []
    },
    {
      "cell_type": "code",
      "source": [
        "from pathlib import Path\n",
        "from typing import Tuple\n",
        "\n",
        "import tensorflow as tf\n",
        "import tensorflow_datasets as tfds\n",
        "\n",
        "# Ensure TF does not see GPU and grab all GPU memory.\n",
        "tf.config.set_visible_devices([], device_type=\"GPU\")\n",
        "\n",
        "\n",
        "def get_data_from_tfds(\n",
        "    name: str,\n",
        "    data_dir: Path,\n",
        ") -> Tuple[tf.Tensor | tf.data.Dataset, tf.Tensor | tf.data.Dataset]:\n",
        "    \"\"\"Fetch full datasets for evaluation\n",
        "    Args:\n",
        "        name: name of the dataset for tfds.load() method\n",
        "        data_dir: path to save the data\n",
        "    Returns:\n",
        "        tfds.load returns tf.Tensors (or tf.data.Datasets if batch_size != -1)\n",
        "    \"\"\"\n",
        "    cifar10_data, _ = tfds.load(\n",
        "        name=name,\n",
        "        batch_size=-1,\n",
        "        data_dir=data_dir,\n",
        "        with_info=True,\n",
        "    )\n",
        "    cifar10_data = tfds.as_numpy(cifar10_data)\n",
        "    train_data, test_data = cifar10_data[\"train\"], cifar10_data[\"test\"]\n",
        "    return train_data, test_data\n"
      ],
      "metadata": {
        "id": "DhOfE5WXp2aq"
      },
      "execution_count": 3,
      "outputs": []
    },
    {
      "cell_type": "code",
      "source": [],
      "metadata": {
        "id": "tJF-qlv-oK7O"
      },
      "execution_count": null,
      "outputs": []
    }
  ]
}