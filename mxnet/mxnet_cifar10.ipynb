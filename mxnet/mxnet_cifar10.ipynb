{
  "nbformat": 4,
  "nbformat_minor": 0,
  "metadata": {
    "colab": {
      "provenance": []
    },
    "kernelspec": {
      "name": "python3",
      "display_name": "Python 3"
    },
    "language_info": {
      "name": "python"
    }
  },
  "cells": [
    {
      "cell_type": "code",
      "source": [
        "!pip install mxnet"
      ],
      "metadata": {
        "id": "Qf5Zw0c39bKh",
        "colab": {
          "base_uri": "https://localhost:8080/"
        },
        "outputId": "138d709d-27c8-41d3-86f9-dc6025f1b233"
      },
      "execution_count": 1,
      "outputs": [
        {
          "output_type": "stream",
          "name": "stdout",
          "text": [
            "Looking in indexes: https://pypi.org/simple, https://us-python.pkg.dev/colab-wheels/public/simple/\n",
            "Collecting mxnet\n",
            "  Downloading mxnet-1.9.1-py3-none-manylinux2014_x86_64.whl (49.1 MB)\n",
            "\u001b[2K     \u001b[90m━━━━━━━━━━━━━━━━━━━━━━━━━━━━━━━━━━━━━━━━\u001b[0m \u001b[32m49.1/49.1 MB\u001b[0m \u001b[31m10.8 MB/s\u001b[0m eta \u001b[36m0:00:00\u001b[0m\n",
            "\u001b[?25hRequirement already satisfied: numpy<2.0.0,>1.16.0 in /usr/local/lib/python3.10/dist-packages (from mxnet) (1.22.4)\n",
            "Requirement already satisfied: requests<3,>=2.20.0 in /usr/local/lib/python3.10/dist-packages (from mxnet) (2.27.1)\n",
            "Collecting graphviz<0.9.0,>=0.8.1\n",
            "  Downloading graphviz-0.8.4-py2.py3-none-any.whl (16 kB)\n",
            "Requirement already satisfied: certifi>=2017.4.17 in /usr/local/lib/python3.10/dist-packages (from requests<3,>=2.20.0->mxnet) (2022.12.7)\n",
            "Requirement already satisfied: charset-normalizer~=2.0.0 in /usr/local/lib/python3.10/dist-packages (from requests<3,>=2.20.0->mxnet) (2.0.12)\n",
            "Requirement already satisfied: urllib3<1.27,>=1.21.1 in /usr/local/lib/python3.10/dist-packages (from requests<3,>=2.20.0->mxnet) (1.26.15)\n",
            "Requirement already satisfied: idna<4,>=2.5 in /usr/local/lib/python3.10/dist-packages (from requests<3,>=2.20.0->mxnet) (3.4)\n",
            "Installing collected packages: graphviz, mxnet\n",
            "  Attempting uninstall: graphviz\n",
            "    Found existing installation: graphviz 0.20.1\n",
            "    Uninstalling graphviz-0.20.1:\n",
            "      Successfully uninstalled graphviz-0.20.1\n",
            "Successfully installed graphviz-0.8.4 mxnet-1.9.1\n"
          ]
        }
      ]
    },
    {
      "cell_type": "code",
      "source": [
        "import mxnet\n",
        "mxnet.__version__"
      ],
      "metadata": {
        "id": "9skbCM8e25Je",
        "colab": {
          "base_uri": "https://localhost:8080/",
          "height": 35
        },
        "outputId": "24e02ebb-726b-431f-e077-0e2174897f70"
      },
      "execution_count": 2,
      "outputs": [
        {
          "output_type": "execute_result",
          "data": {
            "text/plain": [
              "'1.9.1'"
            ],
            "application/vnd.google.colaboratory.intrinsic+json": {
              "type": "string"
            }
          },
          "metadata": {},
          "execution_count": 2
        }
      ]
    },
    {
      "cell_type": "code",
      "source": [
        "from mxnet.gluon import nn\n",
        "from mxnet.gluon.data.vision import datasets, transforms\n",
        "from tqdm import tqdm\n",
        "\n",
        "import mxnet as mx\n",
        "from mxnet import autograd, gluon, init\n",
        "\n",
        "# Set the context to CPU or GPU\n",
        "ctx = mx.gpu() if mx.context.num_gpus() > 0 else mx.cpu()\n",
        "\n",
        "# Load and transform the CIFAR10 data\n",
        "transform_train = transforms.Compose(\n",
        "    [\n",
        "        transforms.ToTensor(),\n",
        "        transforms.Normalize(mean=[0.4914, 0.4822, 0.4465], std=[0.2023, 0.1994, 0.2010]),\n",
        "    ],\n",
        ")\n",
        "transform_test = transforms.Compose(\n",
        "    [\n",
        "        transforms.ToTensor(),\n",
        "        transforms.Normalize(mean=[0.4914, 0.4822, 0.4465], std=[0.2023, 0.1994, 0.2010]),\n",
        "    ],\n",
        ")\n",
        "train_data = datasets.CIFAR10(train=True).transform_first(transform_train)\n",
        "test_data = datasets.CIFAR10(train=False).transform_first(transform_test)\n",
        "\n",
        "# Define the network architecture\n",
        "net = nn.Sequential()\n",
        "with net.name_scope():\n",
        "    net.add(\n",
        "        nn.Conv2D(channels=32, kernel_size=3, padding=1, activation=\"relu\"),\n",
        "        nn.MaxPool2D(pool_size=2, strides=2),\n",
        "        nn.Conv2D(channels=16, kernel_size=3, padding=1, activation=\"relu\"),\n",
        "        nn.MaxPool2D(pool_size=2, strides=2),\n",
        "        nn.Flatten(),\n",
        "        nn.Dense(64, activation=\"relu\"),\n",
        "        nn.Dense(10),\n",
        "    )\n",
        "net.initialize(init=init.Xavier(), ctx=ctx)\n",
        "\n",
        "# Define the loss function and optimizer\n",
        "softmax_cross_entropy = gluon.loss.SoftmaxCrossEntropyLoss()\n",
        "trainer = gluon.Trainer(net.collect_params(), \"adam\", {\"learning_rate\": 0.0001})\n",
        "\n",
        "# Train the network\n",
        "batch_size = 128\n",
        "epochs = 2\n",
        "train_loader = gluon.data.DataLoader(train_data, batch_size, shuffle=True)\n",
        "test_loader = gluon.data.DataLoader(test_data, batch_size)\n",
        "for epoch in range(epochs):\n",
        "    progress_bar = tqdm(train_loader, position=0, leave=True)\n",
        "    train_loss, train_acc, n = 0.0, 0.0, 0\n",
        "    for X, y in train_loader:\n",
        "        X, y = X.as_in_context(ctx), y.as_in_context(ctx)\n",
        "        with autograd.record():\n",
        "            y_hat = net(X)\n",
        "            loss = softmax_cross_entropy(y_hat, y)\n",
        "        loss.backward()\n",
        "        trainer.step(batch_size)\n",
        "        current_loss = mx.nd.sum(loss).asscalar()\n",
        "        train_loss += current_loss\n",
        "        current_acc = mx.nd.sum(\n",
        "            mxnet.ndarray.cast(y_hat.argmax(axis=1), dtype=\"int32\") == y,\n",
        "        ).asscalar()\n",
        "        train_acc += current_acc\n",
        "        n += y.size\n",
        "\n",
        "        progress_bar.set_description(f\"Epoch {epoch+1}/{epochs}\")\n",
        "        progress_bar.set_postfix(train_loss=round(current_loss, 3), train_acc=current_acc)\n",
        "        progress_bar.update()"
      ],
      "metadata": {
        "id": "fljxV9E-0X5Y",
        "colab": {
          "base_uri": "https://localhost:8080/"
        },
        "outputId": "f96cb512-b9d2-41de-b93e-f573d5562e8b"
      },
      "execution_count": 3,
      "outputs": [
        {
          "output_type": "stream",
          "name": "stdout",
          "text": [
            "Downloading /root/.mxnet/datasets/cifar10/cifar-10-binary.tar.gz from https://apache-mxnet.s3-accelerate.dualstack.amazonaws.com/gluon/dataset/cifar10/cifar-10-binary.tar.gz...\n"
          ]
        },
        {
          "output_type": "stream",
          "name": "stderr",
          "text": [
            "Epoch 1/2: 100%|██████████| 391/391 [01:04<00:00,  6.04it/s, train_acc=32, train_loss=140]\n",
            "Epoch 2/2: 100%|█████████▉| 390/391 [00:41<00:00, 11.34it/s, train_acc=40, train_loss=111]"
          ]
        }
      ]
    },
    {
      "cell_type": "code",
      "source": [
        "test_acc = 0.0\n",
        "\n",
        "for X, y in test_loader:\n",
        "    X, y = X.as_in_context(ctx), y.as_in_context(ctx)\n",
        "    y_hat = net(X)\n",
        "    current_acc = mx.nd.sum(\n",
        "        mxnet.ndarray.cast(y_hat.argmax(axis=1), dtype=\"int32\") == y,\n",
        "    ).asscalar()\n",
        "    test_acc += current_acc\n",
        "\n",
        "test_acc / len(test_data)"
      ],
      "metadata": {
        "id": "uRllWii0CSUb",
        "colab": {
          "base_uri": "https://localhost:8080/"
        },
        "outputId": "73fcb7d6-628e-4f55-b240-d5f6d9b71fb7"
      },
      "execution_count": 5,
      "outputs": [
        {
          "output_type": "execute_result",
          "data": {
            "text/plain": [
              "0.4737"
            ]
          },
          "metadata": {},
          "execution_count": 5
        }
      ]
    },
    {
      "cell_type": "code",
      "source": [],
      "metadata": {
        "id": "S2x3r_N4FOC_"
      },
      "execution_count": null,
      "outputs": []
    }
  ]
}