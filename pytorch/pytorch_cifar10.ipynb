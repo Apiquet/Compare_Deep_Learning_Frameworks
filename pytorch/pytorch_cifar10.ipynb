{
  "nbformat": 4,
  "nbformat_minor": 0,
  "metadata": {
    "colab": {
      "provenance": []
    },
    "kernelspec": {
      "name": "python3",
      "display_name": "Python 3"
    },
    "language_info": {
      "name": "python"
    }
  },
  "cells": [
    {
      "cell_type": "code",
      "source": [
        "from typing import Tuple\n",
        "\n",
        "import torch\n",
        "import torch.nn as nn\n",
        "import torch.nn.functional as F\n",
        "import torch.optim as optim\n",
        "import torchvision\n",
        "import torchvision.transforms as transforms\n",
        "from tqdm import tqdm\n",
        "\n",
        "epochs = 2\n",
        "batch_size = 128\n",
        "classes_count = 10\n",
        "\n",
        "# Define a transform to normalize the data\n",
        "transform = transforms.Compose(\n",
        "    [\n",
        "        transforms.ToTensor(),\n",
        "        transforms.Normalize((0.5, 0.5, 0.5), (0.5, 0.5, 0.5)),\n",
        "    ],\n",
        ")\n",
        "\n",
        "# Load the training and test datasets\n",
        "trainset = torchvision.datasets.CIFAR10(\n",
        "    root=\"./data\",\n",
        "    train=True,\n",
        "    download=True,\n",
        "    transform=transform,\n",
        ")\n",
        "trainloader = torch.utils.data.DataLoader(\n",
        "    trainset,\n",
        "    batch_size=batch_size,\n",
        "    shuffle=True,\n",
        "    num_workers=1,\n",
        ")\n",
        "\n",
        "testset = torchvision.datasets.CIFAR10(\n",
        "    root=\"./data\",\n",
        "    train=False,\n",
        "    download=True,\n",
        "    transform=transform,\n",
        ")\n",
        "testloader = torch.utils.data.DataLoader(\n",
        "    testset,\n",
        "    batch_size=batch_size,\n",
        "    shuffle=False,\n",
        "    num_workers=1,\n",
        ")\n",
        "\n",
        "\n",
        "# Define the neural network\n",
        "class Net(nn.Module):\n",
        "    def __init__(self, input_size: Tuple[int, int], classes_count: int):\n",
        "        super().__init__()\n",
        "        self.conv1 = nn.Conv2d(3, 32, kernel_size=3, padding=1)\n",
        "        self.pool1 = nn.MaxPool2d(2, 2)\n",
        "        self.conv2 = nn.Conv2d(32, 16, kernel_size=3, padding=1)\n",
        "        self.pool2 = nn.MaxPool2d(2, 2)\n",
        "        input_flatten_size = int(16 * (input_size[0] / 4) * (input_size[1] / 4))\n",
        "        self.fc1 = nn.Linear(input_flatten_size, 64)\n",
        "        self.fc2 = nn.Linear(64, classes_count)\n",
        "\n",
        "    def forward(self, x):\n",
        "        x = self.pool1(F.relu(self.conv1(x)))\n",
        "        x = self.pool2(F.relu(self.conv2(x)))\n",
        "        x = torch.flatten(x, start_dim=1)\n",
        "        x = F.relu(self.fc1(x))\n",
        "        x = self.fc2(x)\n",
        "        return x\n",
        "\n",
        "\n",
        "for data in trainloader:\n",
        "    input_data, _ = data\n",
        "    input_size = input_data.shape\n",
        "\n",
        "net = Net(input_size[2:4], classes_count)\n",
        "\n",
        "# Define a loss function and optimizer\n",
        "criterion = nn.CrossEntropyLoss()\n",
        "optimizer = optim.Adam(net.parameters(), lr=0.0001)\n",
        "\n",
        "# Train the network\n",
        "for epoch in range(epochs):\n",
        "    progress_bar = tqdm(trainloader, position=0, leave=True)\n",
        "    running_loss = 0.0\n",
        "    for data in trainloader:\n",
        "        input_data, labels = data\n",
        "\n",
        "        optimizer.zero_grad()\n",
        "\n",
        "        outputs = net(input_data)\n",
        "        loss = criterion(outputs, labels)\n",
        "        loss.backward()\n",
        "        optimizer.step()\n",
        "\n",
        "        running_loss += loss.item()\n",
        "\n",
        "        progress_bar.set_description(f\"Epoch {epoch+1}/{epochs}\")\n",
        "        progress_bar.set_postfix(train_loss=round(loss.item(), 3))\n",
        "        progress_bar.update()\n"
      ],
      "metadata": {
        "id": "XFDL7fi_2-Vo",
        "colab": {
          "base_uri": "https://localhost:8080/"
        },
        "outputId": "9a38248e-9b6a-44b2-855a-17656909ba05"
      },
      "execution_count": 1,
      "outputs": [
        {
          "output_type": "stream",
          "name": "stdout",
          "text": [
            "Files already downloaded and verified\n",
            "Files already downloaded and verified\n"
          ]
        },
        {
          "output_type": "stream",
          "name": "stderr",
          "text": [
            "Epoch 1/2: 100%|██████████| 391/391 [00:55<00:00,  7.01it/s, train_loss=1.85]\n",
            "Epoch 2/2: 100%|█████████▉| 390/391 [00:59<00:00,  5.38it/s, train_loss=1.57]"
          ]
        }
      ]
    },
    {
      "cell_type": "code",
      "source": [
        "# Test the model\n",
        "predictions = []\n",
        "targets = []\n",
        "with torch.no_grad():\n",
        "    for data in testloader:\n",
        "        images, labels = data\n",
        "        outputs = net(images)\n",
        "        predictions.append(outputs)\n",
        "        targets.append(labels)\n",
        "\n",
        "predictions = torch.argmax(torch.cat(predictions, dim=0), dim=1)\n",
        "targets = torch.cat(targets, dim=0)"
      ],
      "metadata": {
        "id": "OhQBXowaVUdB"
      },
      "execution_count": 12,
      "outputs": []
    },
    {
      "cell_type": "code",
      "source": [
        "from sklearn.metrics import accuracy_score\n",
        "\n",
        "print(\"Test  Accuracy : {:.3f}\".format(accuracy_score(targets, predictions)))"
      ],
      "metadata": {
        "colab": {
          "base_uri": "https://localhost:8080/"
        },
        "id": "LdgefxsZbQo9",
        "outputId": "688a3ee7-5654-4a15-af62-d57ade089dfd"
      },
      "execution_count": 14,
      "outputs": [
        {
          "output_type": "stream",
          "name": "stdout",
          "text": [
            "Test  Accuracy : 0.431\n"
          ]
        }
      ]
    },
    {
      "cell_type": "code",
      "source": [],
      "metadata": {
        "id": "nIE8L6rFmYt7"
      },
      "execution_count": null,
      "outputs": []
    }
  ]
}