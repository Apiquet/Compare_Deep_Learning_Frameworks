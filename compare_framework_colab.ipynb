{
  "cells": [
    {
      "cell_type": "markdown",
      "source": [
        "# Notebook to run a Deep Learning training on CIFAR-10 dataset\n",
        "Available frameworks: fastai, jax, mxnet, paddlepaddle, pytorch, pytorch-lightning and keras.\n",
        "\n",
        "It can also produce a torch-profiling file to memory/gpu/cpu consumption.\n",
        "\n",
        "\n",
        "\n",
        "---"
      ],
      "metadata": {
        "id": "EJGh-njkeAVi"
      }
    },
    {
      "cell_type": "markdown",
      "source": [
        "1- Choose the framework by updating the framework_name variable.\n",
        "The possibilities are in the list installation_command.keys()"
      ],
      "metadata": {
        "id": "ZytdexIGd1Vf"
      }
    },
    {
      "cell_type": "code",
      "source": [
        "import subprocess\n",
        "framework_name = \"jax\"\n",
        "\n",
        "installation_command = {\"fastai\": None, \"jax\": None, \"mxnet\": \"pip install mxnet\"}\n",
        "\n",
        "if installation_command[framework_name] is not None:\n",
        "    process = subprocess.Popen(installation_command[framework_name].split(), stdout=subprocess.PIPE)\n",
        "    output, error = process.communicate()"
      ],
      "metadata": {
        "id": "Hi9ftQMAcv_J"
      },
      "execution_count": 4,
      "outputs": []
    },
    {
      "cell_type": "markdown",
      "source": [
        "2- Get repository (nothing to change)"
      ],
      "metadata": {
        "id": "Ecvbs3LpedPz"
      }
    },
    {
      "cell_type": "code",
      "execution_count": null,
      "metadata": {
        "colab": {
          "base_uri": "https://localhost:8080/"
        },
        "id": "R8FRXxjb8gce",
        "outputId": "bba39070-3f84-4e64-d547-4b339627bcc7"
      },
      "outputs": [
        {
          "output_type": "stream",
          "name": "stdout",
          "text": [
            "fatal: destination path 'Compare_Deep_Learning_Frameworks' already exists and is not an empty directory.\n"
          ]
        }
      ],
      "source": [
        "!git clone https://github.com/Apiquet/Compare_Deep_Learning_Frameworks.git"
      ]
    },
    {
      "cell_type": "code",
      "execution_count": null,
      "metadata": {
        "id": "5OWdloqzwZJS"
      },
      "outputs": [],
      "source": [
        "from Compare_Deep_Learning_Frameworks.run_training import run_training"
      ]
    },
    {
      "cell_type": "markdown",
      "source": [
        "3- Connect to Google Drive to save results (need to update drive_folder_path)"
      ],
      "metadata": {
        "id": "ECNN2kLAf5T4"
      }
    },
    {
      "cell_type": "code",
      "execution_count": null,
      "metadata": {
        "colab": {
          "base_uri": "https://localhost:8080/"
        },
        "id": "gOGRGuhBv8lJ",
        "outputId": "8762f064-70cc-45b9-fc69-e36b259dc6e1"
      },
      "outputs": [
        {
          "output_type": "stream",
          "name": "stdout",
          "text": [
            "Drive already mounted at /content/drive; to attempt to forcibly remount, call drive.mount(\"/content/drive\", force_remount=True).\n"
          ]
        }
      ],
      "source": [
        "from google.colab import drive\n",
        "drive.mount('/content/drive')\n",
        "drive_folder_path = \"/content/drive/MyDrive/Summaries/tests/compare_frameworks/\""
      ]
    },
    {
      "cell_type": "markdown",
      "source": [
        "4- Choose trainings params and if a profiling file should be produced\n",
        "\n",
        "If enable_profiling is True, a very small training will be executed to avoid producing a large file."
      ],
      "metadata": {
        "id": "4z7lXmmRgEVz"
      }
    },
    {
      "cell_type": "code",
      "execution_count": null,
      "metadata": {
        "colab": {
          "base_uri": "https://localhost:8080/"
        },
        "id": "vgXp7WQ07ZaP",
        "outputId": "e788e6ec-60f0-4444-caa0-4260a448f05f"
      },
      "outputs": [
        {
          "output_type": "stream",
          "name": "stdout",
          "text": [
            "Start training\n",
            "<class 'dict'> <class 'dict'>\n"
          ]
        },
        {
          "output_type": "stream",
          "name": "stderr",
          "text": [
            "100%|██████████| 79/79 [00:03<00:00, 25.90it/s]\n",
            "Epoch 1/1: 100%|██████████| 391/391 [02:42<00:00,  2.40it/s, train_loss=0.73600006]\n"
          ]
        },
        {
          "output_type": "execute_result",
          "data": {
            "text/plain": [
              "0.1854"
            ]
          },
          "metadata": {},
          "execution_count": 4
        }
      ],
      "source": [
        "enable_profiling = False\n",
        "training_params = {\n",
        "    \"epochs\": 1,\n",
        "    \"batch_size\": 128,\n",
        "    \"learning_rate\": 0.0001,\n",
        "}\n",
        "\n",
        "run_training(\n",
        "    framework_name=framework_name,\n",
        "    path_to_log=drive_folder_path,\n",
        "    training_params=training_params,\n",
        "    enable_profiling=enable_profiling,\n",
        ")"
      ]
    },
    {
      "cell_type": "code",
      "execution_count": null,
      "metadata": {
        "id": "W3WLT3vXENoG"
      },
      "outputs": [],
      "source": []
    }
  ],
  "metadata": {
    "accelerator": "GPU",
    "colab": {
      "gpuType": "T4",
      "provenance": []
    },
    "gpuClass": "standard",
    "kernelspec": {
      "display_name": "Python 3",
      "name": "python3"
    },
    "language_info": {
      "name": "python"
    }
  },
  "nbformat": 4,
  "nbformat_minor": 0
}