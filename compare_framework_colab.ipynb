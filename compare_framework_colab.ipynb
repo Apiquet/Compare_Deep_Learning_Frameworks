{
  "cells": [
    {
      "attachments": {},
      "cell_type": "markdown",
      "metadata": {
        "id": "EJGh-njkeAVi"
      },
      "source": [
        "# Notebook to run a Deep Learning training on CIFAR-10 dataset\n",
        "Available frameworks: fastai, jax, mxnet, paddlepaddle, pytorch, pytorch-lightning and keras.\n",
        "\n",
        "It can also produce a torch-profiling file to memory/gpu/cpu consumption.\n",
        "\n",
        "\n",
        "\n",
        "---"
      ]
    },
    {
      "attachments": {},
      "cell_type": "markdown",
      "metadata": {
        "id": "ZytdexIGd1Vf"
      },
      "source": [
        "1- Choose the framework by updating the framework_name variable.\n",
        "The possibilities are in the list installation_command.keys()"
      ]
    },
    {
      "cell_type": "code",
      "execution_count": 4,
      "metadata": {
        "id": "Hi9ftQMAcv_J"
      },
      "outputs": [],
      "source": [
        "import subprocess\n",
        "framework_name = \"jax\"\n",
        "\n",
        "installation_command = {\n",
        "    \"fastai\": \"pip install fastai==2.7.12\",\n",
        "    \"jax\": \"pip install jax==0.4.8\",\n",
        "    \"mxnet\": \"pip install mxnet==1.9.1\",\n",
        "}\n",
        "\n",
        "if installation_command[framework_name] is not None:\n",
        "    process = subprocess.Popen(installation_command[framework_name].split(), stdout=subprocess.PIPE)\n",
        "    output, error = process.communicate()"
      ]
    },
    {
      "attachments": {},
      "cell_type": "markdown",
      "metadata": {
        "id": "Ecvbs3LpedPz"
      },
      "source": [
        "2- Get repository (nothing to change)"
      ]
    },
    {
      "cell_type": "code",
      "execution_count": null,
      "metadata": {
        "colab": {
          "base_uri": "https://localhost:8080/"
        },
        "id": "R8FRXxjb8gce",
        "outputId": "bba39070-3f84-4e64-d547-4b339627bcc7"
      },
      "outputs": [
        {
          "name": "stdout",
          "output_type": "stream",
          "text": [
            "fatal: destination path 'Compare_Deep_Learning_Frameworks' already exists and is not an empty directory.\n"
          ]
        }
      ],
      "source": [
        "!git clone https://github.com/Apiquet/Compare_Deep_Learning_Frameworks.git"
      ]
    },
    {
      "cell_type": "code",
      "execution_count": null,
      "metadata": {
        "id": "5OWdloqzwZJS"
      },
      "outputs": [],
      "source": [
        "from Compare_Deep_Learning_Frameworks.run_training import run_training"
      ]
    },
    {
      "attachments": {},
      "cell_type": "markdown",
      "metadata": {
        "id": "ECNN2kLAf5T4"
      },
      "source": [
        "3- Connect to Google Drive to save results (need to update drive_folder_path)"
      ]
    },
    {
      "cell_type": "code",
      "execution_count": null,
      "metadata": {
        "colab": {
          "base_uri": "https://localhost:8080/"
        },
        "id": "gOGRGuhBv8lJ",
        "outputId": "8762f064-70cc-45b9-fc69-e36b259dc6e1"
      },
      "outputs": [
        {
          "name": "stdout",
          "output_type": "stream",
          "text": [
            "Drive already mounted at /content/drive; to attempt to forcibly remount, call drive.mount(\"/content/drive\", force_remount=True).\n"
          ]
        }
      ],
      "source": [
        "from google.colab import drive\n",
        "drive.mount('/content/drive')\n",
        "drive_folder_path = \"/content/drive/MyDrive/Summaries/tests/compare_frameworks/\""
      ]
    },
    {
      "attachments": {},
      "cell_type": "markdown",
      "metadata": {
        "id": "4z7lXmmRgEVz"
      },
      "source": [
        "4- Choose trainings params and if a profiling file should be produced\n",
        "\n",
        "If enable_profiling is True, a very small training will be executed to avoid producing a large file."
      ]
    },
    {
      "cell_type": "code",
      "execution_count": null,
      "metadata": {
        "colab": {
          "base_uri": "https://localhost:8080/"
        },
        "id": "vgXp7WQ07ZaP",
        "outputId": "e788e6ec-60f0-4444-caa0-4260a448f05f"
      },
      "outputs": [
        {
          "name": "stdout",
          "output_type": "stream",
          "text": [
            "Start training\n",
            "<class 'dict'> <class 'dict'>\n"
          ]
        },
        {
          "name": "stderr",
          "output_type": "stream",
          "text": [
            "100%|██████████| 79/79 [00:03<00:00, 25.90it/s]\n",
            "Epoch 1/1: 100%|██████████| 391/391 [02:42<00:00,  2.40it/s, train_loss=0.73600006]\n"
          ]
        },
        {
          "data": {
            "text/plain": [
              "0.1854"
            ]
          },
          "execution_count": 4,
          "metadata": {},
          "output_type": "execute_result"
        }
      ],
      "source": [
        "# if enable_profiling is True, it will run a small training to get a training profiling.\n",
        "# This file will be stored in drive_folder_path\n",
        "enable_profiling = False\n",
        "\n",
        "training_params = {\n",
        "    \"epochs\": 1,\n",
        "    \"batch_size\": 128,\n",
        "    \"learning_rate\": 0.0001,\n",
        "}\n",
        "\n",
        "val_acc = run_training(\n",
        "    framework_name=framework_name,\n",
        "    path_to_log=drive_folder_path,\n",
        "    training_params=training_params,\n",
        "    enable_profiling=enable_profiling,\n",
        ")"
      ]
    },
    {
      "cell_type": "code",
      "execution_count": null,
      "metadata": {
        "id": "W3WLT3vXENoG"
      },
      "outputs": [],
      "source": []
    }
  ],
  "metadata": {
    "accelerator": "GPU",
    "colab": {
      "gpuType": "T4",
      "provenance": []
    },
    "gpuClass": "standard",
    "kernelspec": {
      "display_name": "Python 3",
      "name": "python3"
    },
    "language_info": {
      "name": "python"
    }
  },
  "nbformat": 4,
  "nbformat_minor": 0
}
