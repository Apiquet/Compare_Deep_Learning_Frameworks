{
  "cells": [
    {
      "attachments": {},
      "cell_type": "markdown",
      "metadata": {
        "id": "EJGh-njkeAVi"
      },
      "source": [
        "# Notebook to run a Deep Learning training on CIFAR-10 dataset\n",
        "Available frameworks: fastai, jax, mxnet, paddlepaddle, pytorch, pytorch-lightning and keras.\n",
        "\n",
        "It can also produce a torch-profiling file to memory/gpu/cpu consumption.\n",
        "\n",
        "\n",
        "\n",
        "---"
      ]
    },
    {
      "attachments": {},
      "cell_type": "markdown",
      "metadata": {
        "id": "ZytdexIGd1Vf"
      },
      "source": [
        "1- Choose the framework by updating the framework_name variable.\n",
        "The possibilities are in the list installation_command.keys()"
      ]
    },
    {
      "cell_type": "code",
      "execution_count": 2,
      "metadata": {
        "id": "Hi9ftQMAcv_J"
      },
      "outputs": [],
      "source": [
        "import subprocess\n",
        "framework_name = \"torch\"\n",
        "\n",
        "installation_command = {\n",
        "    \"fastai\": \"pip install fastai==2.7.12\",\n",
        "    \"jax\": \"pip install jax==0.4.8\",\n",
        "    \"mxnet\": \"pip install mxnet==1.9.1\",\n",
        "    \"paddlepaddle\": \"pip install paddlepaddle==2.4.2\",\n",
        "    \"pytorch\": \"pip install torch==2.0.1+cu118\",\n",
        "}\n",
        "\n",
        "if installation_command[framework_name] is not None:\n",
        "    process = subprocess.Popen(installation_command[framework_name].split(), stdout=subprocess.PIPE)\n",
        "    output, error = process.communicate()"
      ]
    },
    {
      "attachments": {},
      "cell_type": "markdown",
      "metadata": {
        "id": "Ecvbs3LpedPz"
      },
      "source": [
        "2- Get repository (nothing to change)"
      ]
    },
    {
      "cell_type": "code",
      "execution_count": 3,
      "metadata": {
        "colab": {
          "base_uri": "https://localhost:8080/"
        },
        "id": "R8FRXxjb8gce",
        "outputId": "28014c7b-9cdd-463d-e40b-046009a0ba8b"
      },
      "outputs": [
        {
          "name": "stdout",
          "output_type": "stream",
          "text": [
            "Cloning into 'Compare_Deep_Learning_Frameworks'...\n",
            "remote: Enumerating objects: 157, done.\u001b[K\n",
            "remote: Counting objects: 100% (157/157), done.\u001b[K\n",
            "remote: Compressing objects: 100% (104/104), done.\u001b[K\n",
            "remote: Total 157 (delta 78), reused 126 (delta 47), pack-reused 0\u001b[K\n",
            "Receiving objects: 100% (157/157), 76.26 KiB | 1.91 MiB/s, done.\n",
            "Resolving deltas: 100% (78/78), done.\n"
          ]
        }
      ],
      "source": [
        "!git clone https://github.com/Apiquet/Compare_Deep_Learning_Frameworks.git"
      ]
    },
    {
      "cell_type": "code",
      "execution_count": 4,
      "metadata": {
        "id": "5OWdloqzwZJS"
      },
      "outputs": [],
      "source": [
        "from Compare_Deep_Learning_Frameworks.run_training import run_training"
      ]
    },
    {
      "attachments": {},
      "cell_type": "markdown",
      "metadata": {
        "id": "ECNN2kLAf5T4"
      },
      "source": [
        "3- Connect to Google Drive to save results (need to update drive_folder_path)"
      ]
    },
    {
      "cell_type": "code",
      "execution_count": 5,
      "metadata": {
        "id": "gOGRGuhBv8lJ"
      },
      "outputs": [],
      "source": [
        "# from google.colab import drive\n",
        "# drive.mount('/content/drive')\n",
        "path_to_log = \"/content/drive/MyDrive/Summaries/tests/compare_frameworks/\""
      ]
    },
    {
      "attachments": {},
      "cell_type": "markdown",
      "metadata": {
        "id": "4z7lXmmRgEVz"
      },
      "source": [
        "4- Choose trainings params and if a profiling file should be produced\n",
        "\n",
        "If enable_profiling is True, a very small training will be executed to avoid producing a large file."
      ]
    },
    {
      "cell_type": "code",
      "execution_count": 6,
      "metadata": {
        "colab": {
          "base_uri": "https://localhost:8080/"
        },
        "id": "vgXp7WQ07ZaP",
        "outputId": "2ef118a8-5792-41b8-91d9-bc019f476a4f"
      },
      "outputs": [
        {
          "name": "stderr",
          "output_type": "stream",
          "text": [
            "Cache file /root/.cache/paddle/dataset/cifar/cifar-10-python.tar.gz not found, downloading https://dataset.bj.bcebos.com/cifar/cifar-10-python.tar.gz \n",
            "Begin to download\n"
          ]
        },
        {
          "name": "stdout",
          "output_type": "stream",
          "text": [
            "item 41626/41626 [============================>.] - ETA: 0s - 2ms/item"
          ]
        },
        {
          "name": "stderr",
          "output_type": "stream",
          "text": [
            "\n",
            "Download finished\n"
          ]
        },
        {
          "name": "stdout",
          "output_type": "stream",
          "text": [
            "Start training\n"
          ]
        },
        {
          "name": "stderr",
          "output_type": "stream",
          "text": [
            "Epoch 1/1: 100%|██████████| 391/391.0 [02:10<00:00,  3.00it/s, train_loss=[1.126]]\n"
          ]
        }
      ],
      "source": [
        "# if enable_profiling is True, it will run a small training to get a training profiling.\n",
        "# This file will be stored in drive_folder_path\n",
        "enable_profiling = False\n",
        "\n",
        "training_params = {\n",
        "    \"epochs\": 1,\n",
        "    \"batch_size\": 128,\n",
        "    \"learning_rate\": 0.0001,\n",
        "}\n",
        "\n",
        "val_acc = run_training(\n",
        "    framework_name=framework_name,\n",
        "    path_to_log=path_to_log,\n",
        "    training_params=training_params,\n",
        "    enable_profiling=enable_profiling,\n",
        ")"
      ]
    },
    {
      "cell_type": "code",
      "execution_count": 7,
      "metadata": {
        "colab": {
          "base_uri": "https://localhost:8080/"
        },
        "id": "W3WLT3vXENoG",
        "outputId": "05e2b6d8-3a67-4806-bbb8-4b9e6a4d079c"
      },
      "outputs": [
        {
          "data": {
            "text/plain": [
              "0.548556170886076"
            ]
          },
          "execution_count": 7,
          "metadata": {},
          "output_type": "execute_result"
        }
      ],
      "source": [
        "val_acc"
      ]
    },
    {
      "cell_type": "code",
      "execution_count": null,
      "metadata": {
        "id": "rgQaC0Gk2FDc"
      },
      "outputs": [],
      "source": []
    }
  ],
  "metadata": {
    "accelerator": "GPU",
    "colab": {
      "gpuType": "T4",
      "provenance": []
    },
    "gpuClass": "standard",
    "kernelspec": {
      "display_name": "Python 3",
      "name": "python3"
    },
    "language_info": {
      "name": "python"
    }
  },
  "nbformat": 4,
  "nbformat_minor": 0
}
