{
  "cells": [
    {
      "attachments": {},
      "cell_type": "markdown",
      "metadata": {
        "id": "EJGh-njkeAVi"
      },
      "source": [
        "# Notebook to run a Deep Learning training on CIFAR-10 dataset\n",
        "Available frameworks: fastai, jax, mxnet, paddlepaddle, pytorch, pytorch-lightning and keras.\n",
        "\n",
        "It can also produce a torch-profiling file to memory/gpu/cpu consumption.\n",
        "\n",
        "\n",
        "\n",
        "---"
      ]
    },
    {
      "attachments": {},
      "cell_type": "markdown",
      "metadata": {
        "id": "ZytdexIGd1Vf"
      },
      "source": [
        "1- Choose the framework by updating the framework_name variable.\n",
        "The possibilities are in the list installation_command.keys()"
      ]
    },
    {
      "cell_type": "code",
      "execution_count": 3,
      "metadata": {
        "id": "Hi9ftQMAcv_J"
      },
      "outputs": [],
      "source": [
        "import subprocess\n",
        "framework_name = \"pytorch\"\n",
        "\n",
        "installation_command = {\n",
        "    \"fastai\": \"pip install fastai==2.7.12 --quiet\",\n",
        "    \"jax\": \"pip install jax==0.4.8 --quiet\",\n",
        "    \"keras\": \"pip install keras==2.12.0 --quiet\",\n",
        "    \"mxnet\": \"pip install mxnet==1.9.1 --quiet\",\n",
        "    \"paddlepaddle\": \"pip install paddlepaddle==2.4.2 --quiet\",\n",
        "    \"pytorch\": \"pip install torch==2.0.1+cu118 --quiet\",\n",
        "    \"pytorch_lightning\": \"pip install lightning==2.0.2 --quiet\"\n",
        "}\n",
        "\n",
        "if installation_command[framework_name] is not None:\n",
        "    process = subprocess.Popen(installation_command[framework_name].split(), stdout=subprocess.PIPE)\n",
        "    output, error = process.communicate()"
      ]
    },
    {
      "attachments": {},
      "cell_type": "markdown",
      "metadata": {
        "id": "Ecvbs3LpedPz"
      },
      "source": [
        "2- Get repository (nothing to change)"
      ]
    },
    {
      "cell_type": "code",
      "execution_count": 4,
      "metadata": {
        "colab": {
          "base_uri": "https://localhost:8080/"
        },
        "id": "R8FRXxjb8gce",
        "outputId": "8d3b38ee-0e5f-4e7c-b27c-f7fa754b2f71"
      },
      "outputs": [
        {
          "name": "stdout",
          "output_type": "stream",
          "text": [
            "Cloning into 'Compare_Deep_Learning_Frameworks'...\n",
            "remote: Enumerating objects: 166, done.\u001b[K\n",
            "remote: Counting objects: 100% (166/166), done.\u001b[K\n",
            "remote: Compressing objects: 100% (111/111), done.\u001b[K\n",
            "remote: Total 166 (delta 83), reused 132 (delta 49), pack-reused 0\u001b[K\n",
            "Receiving objects: 100% (166/166), 79.50 KiB | 13.25 MiB/s, done.\n",
            "Resolving deltas: 100% (83/83), done.\n"
          ]
        }
      ],
      "source": [
        "!git clone https://github.com/Apiquet/Compare_Deep_Learning_Frameworks.git"
      ]
    },
    {
      "cell_type": "code",
      "execution_count": 5,
      "metadata": {
        "id": "5OWdloqzwZJS"
      },
      "outputs": [],
      "source": [
        "from Compare_Deep_Learning_Frameworks.run_training import run_training"
      ]
    },
    {
      "attachments": {},
      "cell_type": "markdown",
      "metadata": {
        "id": "4z7lXmmRgEVz"
      },
      "source": [
        "3- Choose trainings params"
      ]
    },
    {
      "cell_type": "code",
      "execution_count": 7,
      "metadata": {
        "colab": {
          "base_uri": "https://localhost:8080/"
        },
        "id": "vgXp7WQ07ZaP",
        "outputId": "7f3afbc9-cdd3-4c5e-b247-418a44cf5cdf"
      },
      "outputs": [
        {
          "name": "stdout",
          "output_type": "stream",
          "text": [
            "Downloading https://www.cs.toronto.edu/~kriz/cifar-10-python.tar.gz to ./data/cifar-10-python.tar.gz\n"
          ]
        },
        {
          "name": "stderr",
          "output_type": "stream",
          "text": [
            "100%|██████████| 170498071/170498071 [00:12<00:00, 13181515.92it/s]\n"
          ]
        },
        {
          "name": "stdout",
          "output_type": "stream",
          "text": [
            "Extracting ./data/cifar-10-python.tar.gz to ./data\n",
            "Files already downloaded and verified\n",
            "Start training\n"
          ]
        },
        {
          "name": "stderr",
          "output_type": "stream",
          "text": [
            "Epoch 1/1: 100%|██████████| 391/391 [00:38<00:00, 10.13it/s, train_loss=1.84]\n"
          ]
        }
      ],
      "source": [
        "# if enable_profiling is True, it will run a small training to get a training profiling.\n",
        "# This file will be stored in drive_folder_path\n",
        "enable_profiling = False\n",
        "\n",
        "training_params = {\n",
        "    \"epochs\": 5,\n",
        "    \"batch_size\": 128,\n",
        "    \"learning_rate\": 0.0001,\n",
        "}"
      ]
    },
    {
      "attachments": {},
      "cell_type": "markdown",
      "metadata": {
        "id": "ECNN2kLAf5T4"
      },
      "source": [
        "4-  Choose if a profiling file should be produced\n",
        "\n",
        "If yes, connect to Google Drive to save results (need to update drive_folder_path)"
      ]
    },
    {
      "cell_type": "code",
      "execution_count": 6,
      "metadata": {
        "id": "gOGRGuhBv8lJ"
      },
      "outputs": [],
      "source": [
        "# if enable_profiling is True, it will run a small training to get a training profiling.\n",
        "# This file will be stored in drive_folder_path\n",
        "enable_profiling = True\n",
        "path_to_log = None\n",
        "if enable_profiling:\n",
        "  from google.colab import drive\n",
        "  drive.mount('/content/drive')\n",
        "  path_to_log = \"/content/drive/MyDrive/Summaries/tests/compare_frameworks/\"\n",
        "  training_params[\"epochs\"] = 1"
      ]
    },
    {
      "attachments": {},
      "cell_type": "markdown",
      "metadata": {},
      "source": [
        "5- Run training"
      ]
    },
    {
      "cell_type": "code",
      "execution_count": null,
      "metadata": {},
      "outputs": [],
      "source": [
        "val_acc = run_training(\n",
        "    framework_name=framework_name,\n",
        "    path_to_log=path_to_log,\n",
        "    training_params=training_params,\n",
        "    enable_profiling=enable_profiling,\n",
        ")"
      ]
    },
    {
      "cell_type": "code",
      "execution_count": 8,
      "metadata": {
        "colab": {
          "base_uri": "https://localhost:8080/"
        },
        "id": "W3WLT3vXENoG",
        "outputId": "06595251-6b0b-4c2a-ea8c-7bcf688d40aa"
      },
      "outputs": [
        {
          "data": {
            "text/plain": [
              "0.3487"
            ]
          },
          "execution_count": 8,
          "metadata": {},
          "output_type": "execute_result"
        }
      ],
      "source": [
        "val_acc"
      ]
    },
    {
      "cell_type": "code",
      "execution_count": null,
      "metadata": {
        "id": "rgQaC0Gk2FDc"
      },
      "outputs": [],
      "source": []
    }
  ],
  "metadata": {
    "accelerator": "GPU",
    "colab": {
      "gpuType": "T4",
      "provenance": []
    },
    "gpuClass": "standard",
    "kernelspec": {
      "display_name": "Python 3",
      "name": "python3"
    },
    "language_info": {
      "name": "python"
    }
  },
  "nbformat": 4,
  "nbformat_minor": 0
}
