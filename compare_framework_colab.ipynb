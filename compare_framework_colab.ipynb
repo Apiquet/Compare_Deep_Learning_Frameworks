{
  "cells": [
    {
      "cell_type": "code",
      "source": [
        "!git clone https://github.com/Apiquet/Compare_Deep_Learning_Frameworks.git"
      ],
      "metadata": {
        "colab": {
          "base_uri": "https://localhost:8080/"
        },
        "id": "R8FRXxjb8gce",
        "outputId": "624bfaf7-981f-40f2-84d7-709079ed6825"
      },
      "execution_count": 2,
      "outputs": [
        {
          "output_type": "stream",
          "name": "stdout",
          "text": [
            "Cloning into 'Compare_Deep_Learning_Frameworks'...\n",
            "remote: Enumerating objects: 71, done.\u001b[K\n",
            "remote: Counting objects:   1% (1/71)\u001b[K\rremote: Counting objects:   2% (2/71)\u001b[K\rremote: Counting objects:   4% (3/71)\u001b[K\rremote: Counting objects:   5% (4/71)\u001b[K\rremote: Counting objects:   7% (5/71)\u001b[K\rremote: Counting objects:   8% (6/71)\u001b[K\rremote: Counting objects:   9% (7/71)\u001b[K\rremote: Counting objects:  11% (8/71)\u001b[K\rremote: Counting objects:  12% (9/71)\u001b[K\rremote: Counting objects:  14% (10/71)\u001b[K\rremote: Counting objects:  15% (11/71)\u001b[K\rremote: Counting objects:  16% (12/71)\u001b[K\rremote: Counting objects:  18% (13/71)\u001b[K\rremote: Counting objects:  19% (14/71)\u001b[K\rremote: Counting objects:  21% (15/71)\u001b[K\rremote: Counting objects:  22% (16/71)\u001b[K\rremote: Counting objects:  23% (17/71)\u001b[K\rremote: Counting objects:  25% (18/71)\u001b[K\rremote: Counting objects:  26% (19/71)\u001b[K\rremote: Counting objects:  28% (20/71)\u001b[K\rremote: Counting objects:  29% (21/71)\u001b[K\rremote: Counting objects:  30% (22/71)\u001b[K\rremote: Counting objects:  32% (23/71)\u001b[K\rremote: Counting objects:  33% (24/71)\u001b[K\rremote: Counting objects:  35% (25/71)\u001b[K\rremote: Counting objects:  36% (26/71)\u001b[K\rremote: Counting objects:  38% (27/71)\u001b[K\rremote: Counting objects:  39% (28/71)\u001b[K\rremote: Counting objects:  40% (29/71)\u001b[K\rremote: Counting objects:  42% (30/71)\u001b[K\rremote: Counting objects:  43% (31/71)\u001b[K\rremote: Counting objects:  45% (32/71)\u001b[K\rremote: Counting objects:  46% (33/71)\u001b[K\rremote: Counting objects:  47% (34/71)\u001b[K\rremote: Counting objects:  49% (35/71)\u001b[K\rremote: Counting objects:  50% (36/71)\u001b[K\rremote: Counting objects:  52% (37/71)\u001b[K\rremote: Counting objects:  53% (38/71)\u001b[K\rremote: Counting objects:  54% (39/71)\u001b[K\rremote: Counting objects:  56% (40/71)\u001b[K\rremote: Counting objects:  57% (41/71)\u001b[K\rremote: Counting objects:  59% (42/71)\u001b[K\rremote: Counting objects:  60% (43/71)\u001b[K\rremote: Counting objects:  61% (44/71)\u001b[K\rremote: Counting objects:  63% (45/71)\u001b[K\rremote: Counting objects:  64% (46/71)\u001b[K\rremote: Counting objects:  66% (47/71)\u001b[K\rremote: Counting objects:  67% (48/71)\u001b[K\rremote: Counting objects:  69% (49/71)\u001b[K\rremote: Counting objects:  70% (50/71)\u001b[K\rremote: Counting objects:  71% (51/71)\u001b[K\rremote: Counting objects:  73% (52/71)\u001b[K\rremote: Counting objects:  74% (53/71)\u001b[K\rremote: Counting objects:  76% (54/71)\u001b[K\rremote: Counting objects:  77% (55/71)\u001b[K\rremote: Counting objects:  78% (56/71)\u001b[K\rremote: Counting objects:  80% (57/71)\u001b[K\rremote: Counting objects:  81% (58/71)\u001b[K\rremote: Counting objects:  83% (59/71)\u001b[K\rremote: Counting objects:  84% (60/71)\u001b[K\rremote: Counting objects:  85% (61/71)\u001b[K\rremote: Counting objects:  87% (62/71)\u001b[K\rremote: Counting objects:  88% (63/71)\u001b[K\rremote: Counting objects:  90% (64/71)\u001b[K\rremote: Counting objects:  91% (65/71)\u001b[K\rremote: Counting objects:  92% (66/71)\u001b[K\rremote: Counting objects:  94% (67/71)\u001b[K\rremote: Counting objects:  95% (68/71)\u001b[K\rremote: Counting objects:  97% (69/71)\u001b[K\rremote: Counting objects:  98% (70/71)\u001b[K\rremote: Counting objects: 100% (71/71)\u001b[K\rremote: Counting objects: 100% (71/71), done.\u001b[K\n",
            "remote: Compressing objects:   2% (1/46)\u001b[K\rremote: Compressing objects:   4% (2/46)\u001b[K\rremote: Compressing objects:   6% (3/46)\u001b[K\rremote: Compressing objects:   8% (4/46)\u001b[K\rremote: Compressing objects:  10% (5/46)\u001b[K\rremote: Compressing objects:  13% (6/46)\u001b[K\rremote: Compressing objects:  15% (7/46)\u001b[K\rremote: Compressing objects:  17% (8/46)\u001b[K\rremote: Compressing objects:  19% (9/46)\u001b[K\rremote: Compressing objects:  21% (10/46)\u001b[K\rremote: Compressing objects:  23% (11/46)\u001b[K\rremote: Compressing objects:  26% (12/46)\u001b[K\rremote: Compressing objects:  28% (13/46)\u001b[K\rremote: Compressing objects:  30% (14/46)\u001b[K\rremote: Compressing objects:  32% (15/46)\u001b[K\rremote: Compressing objects:  34% (16/46)\u001b[K\rremote: Compressing objects:  36% (17/46)\u001b[K\rremote: Compressing objects:  39% (18/46)\u001b[K\rremote: Compressing objects:  41% (19/46)\u001b[K\rremote: Compressing objects:  43% (20/46)\u001b[K\rremote: Compressing objects:  45% (21/46)\u001b[K\rremote: Compressing objects:  47% (22/46)\u001b[K\rremote: Compressing objects:  50% (23/46)\u001b[K\rremote: Compressing objects:  52% (24/46)\u001b[K\rremote: Compressing objects:  54% (25/46)\u001b[K\rremote: Compressing objects:  56% (26/46)\u001b[K\rremote: Compressing objects:  58% (27/46)\u001b[K\rremote: Compressing objects:  60% (28/46)\u001b[K\rremote: Compressing objects:  63% (29/46)\u001b[K\rremote: Compressing objects:  65% (30/46)\u001b[K\rremote: Compressing objects:  67% (31/46)\u001b[K\rremote: Compressing objects:  69% (32/46)\u001b[K\rremote: Compressing objects:  71% (33/46)\u001b[K\rremote: Compressing objects:  73% (34/46)\u001b[K\rremote: Compressing objects:  76% (35/46)\u001b[K\rremote: Compressing objects:  78% (36/46)\u001b[K\rremote: Compressing objects:  80% (37/46)\u001b[K\rremote: Compressing objects:  82% (38/46)\u001b[K\rremote: Compressing objects:  84% (39/46)\u001b[K\rremote: Compressing objects:  86% (40/46)\u001b[K\rremote: Compressing objects:  89% (41/46)\u001b[K\rremote: Compressing objects:  91% (42/46)\u001b[K\rremote: Compressing objects:  93% (43/46)\u001b[K\rremote: Compressing objects:  95% (44/46)\u001b[K\rremote: Compressing objects:  97% (45/46)\u001b[K\rremote: Compressing objects: 100% (46/46)\u001b[K\rremote: Compressing objects: 100% (46/46), done.\u001b[K\n",
            "Unpacking objects:   1% (1/71)\rUnpacking objects:   2% (2/71)\rUnpacking objects:   4% (3/71)\rUnpacking objects:   5% (4/71)\rUnpacking objects:   7% (5/71)\rUnpacking objects:   8% (6/71)\rUnpacking objects:   9% (7/71)\rUnpacking objects:  11% (8/71)\rUnpacking objects:  12% (9/71)\rUnpacking objects:  14% (10/71)\rUnpacking objects:  15% (11/71)\rUnpacking objects:  16% (12/71)\rUnpacking objects:  18% (13/71)\rUnpacking objects:  19% (14/71)\rUnpacking objects:  21% (15/71)\rUnpacking objects:  22% (16/71)\rUnpacking objects:  23% (17/71)\rUnpacking objects:  25% (18/71)\rUnpacking objects:  26% (19/71)\rUnpacking objects:  28% (20/71)\rUnpacking objects:  29% (21/71)\rUnpacking objects:  30% (22/71)\rUnpacking objects:  32% (23/71)\rUnpacking objects:  33% (24/71)\rUnpacking objects:  35% (25/71)\rUnpacking objects:  36% (26/71)\rUnpacking objects:  38% (27/71)\rUnpacking objects:  39% (28/71)\rUnpacking objects:  40% (29/71)\rUnpacking objects:  42% (30/71)\rUnpacking objects:  43% (31/71)\rUnpacking objects:  45% (32/71)\rUnpacking objects:  46% (33/71)\rUnpacking objects:  47% (34/71)\rUnpacking objects:  49% (35/71)\rUnpacking objects:  50% (36/71)\rUnpacking objects:  52% (37/71)\rremote: Total 71 (delta 25), reused 65 (delta 19), pack-reused 0\u001b[K\n",
            "Unpacking objects:  53% (38/71)\rUnpacking objects:  54% (39/71)\rUnpacking objects:  56% (40/71)\rUnpacking objects:  57% (41/71)\rUnpacking objects:  59% (42/71)\rUnpacking objects:  60% (43/71)\rUnpacking objects:  61% (44/71)\rUnpacking objects:  63% (45/71)\rUnpacking objects:  64% (46/71)\rUnpacking objects:  66% (47/71)\rUnpacking objects:  67% (48/71)\rUnpacking objects:  69% (49/71)\rUnpacking objects:  70% (50/71)\rUnpacking objects:  71% (51/71)\rUnpacking objects:  73% (52/71)\rUnpacking objects:  74% (53/71)\rUnpacking objects:  76% (54/71)\rUnpacking objects:  77% (55/71)\rUnpacking objects:  78% (56/71)\rUnpacking objects:  80% (57/71)\rUnpacking objects:  81% (58/71)\rUnpacking objects:  83% (59/71)\rUnpacking objects:  84% (60/71)\rUnpacking objects:  85% (61/71)\rUnpacking objects:  87% (62/71)\rUnpacking objects:  88% (63/71)\rUnpacking objects:  90% (64/71)\rUnpacking objects:  91% (65/71)\rUnpacking objects:  92% (66/71)\rUnpacking objects:  94% (67/71)\rUnpacking objects:  95% (68/71)\rUnpacking objects:  97% (69/71)\rUnpacking objects:  98% (70/71)\rUnpacking objects: 100% (71/71)\rUnpacking objects: 100% (71/71), 54.32 KiB | 2.36 MiB/s, done.\n"
          ]
        }
      ]
    },
    {
      "cell_type": "code",
      "source": [
        "from Compare_Deep_Learning_Frameworks.profile_frameworks import profile_framework"
      ],
      "metadata": {
        "colab": {
          "base_uri": "https://localhost:8080/"
        },
        "id": "5OWdloqzwZJS",
        "outputId": "a5261fe2-7582-4fba-b751-242fdf2aacc8"
      },
      "execution_count": 7,
      "outputs": [
        {
          "output_type": "stream",
          "name": "stdout",
          "text": [
            "Drive already mounted at /content/drive; to attempt to forcibly remount, call drive.mount(\"/content/drive\", force_remount=True).\n"
          ]
        }
      ]
    },
    {
      "cell_type": "code",
      "source": [
        "from google.colab import drive\n",
        "drive.mount('/content/drive')\n",
        "drive_folder_path = \"/content/drive/MyDrive/Summaries/tests/compare_frameworks/\""
      ],
      "metadata": {
        "colab": {
          "base_uri": "https://localhost:8080/"
        },
        "id": "gOGRGuhBv8lJ",
        "outputId": "836f5ea5-9af8-477a-ef54-192a0db12f31"
      },
      "execution_count": 9,
      "outputs": [
        {
          "output_type": "stream",
          "name": "stdout",
          "text": [
            "Drive already mounted at /content/drive; to attempt to forcibly remount, call drive.mount(\"/content/drive\", force_remount=True).\n"
          ]
        }
      ]
    },
    {
      "cell_type": "code",
      "source": [
        "framework_name = \"fastai\"\n",
        "training_params = {\n",
        "    \"epochs\": 1,\n",
        "    \"batch_size\": 128,\n",
        "    \"learning_rate\": 0.0001,\n",
        "}\n",
        "\n",
        "profile_framework(\n",
        "    framework_name=framework_name,\n",
        "    path_to_log=drive_folder_path,\n",
        "    training_params=training_params,\n",
        ")"
      ],
      "metadata": {
        "id": "vgXp7WQ07ZaP",
        "colab": {
          "base_uri": "https://localhost:8080/",
          "height": 170
        },
        "outputId": "d2d48c71-356d-4a37-d173-b65138cc49bb"
      },
      "execution_count": null,
      "outputs": [
        {
          "output_type": "display_data",
          "data": {
            "text/plain": [
              "<IPython.core.display.HTML object>"
            ],
            "text/html": [
              "\n",
              "<style>\n",
              "    /* Turns off some styling */\n",
              "    progress {\n",
              "        /* gets rid of default border in Firefox and Opera. */\n",
              "        border: none;\n",
              "        /* Needs to be in here for Safari polyfill so background images work as expected. */\n",
              "        background-size: auto;\n",
              "    }\n",
              "    progress:not([value]), progress:not([value])::-webkit-progress-bar {\n",
              "        background: repeating-linear-gradient(45deg, #7e7e7e, #7e7e7e 10px, #5c5c5c 10px, #5c5c5c 20px);\n",
              "    }\n",
              "    .progress-bar-interrupted, .progress-bar-interrupted::-webkit-progress-bar {\n",
              "        background: #F44336;\n",
              "    }\n",
              "</style>\n"
            ]
          },
          "metadata": {}
        },
        {
          "output_type": "display_data",
          "data": {
            "text/plain": [
              "<IPython.core.display.HTML object>"
            ],
            "text/html": [
              "\n",
              "    <div>\n",
              "      <progress value='168173568' class='' max='168168549' style='width:300px; height:20px; vertical-align: middle;'></progress>\n",
              "      100.00% [168173568/168168549 00:02&lt;00:00]\n",
              "    </div>\n",
              "    "
            ]
          },
          "metadata": {}
        },
        {
          "output_type": "stream",
          "name": "stderr",
          "text": [
            "/usr/local/lib/python3.10/dist-packages/torch/profiler/profiler.py:268: UserWarning: Profiler won't be using warmup, this can skew profiler results\n",
            "  warn(\"Profiler won't be using warmup, this can skew profiler results\")\n"
          ]
        },
        {
          "output_type": "display_data",
          "data": {
            "text/plain": [
              "<IPython.core.display.HTML object>"
            ],
            "text/html": [
              "\n",
              "<style>\n",
              "    /* Turns off some styling */\n",
              "    progress {\n",
              "        /* gets rid of default border in Firefox and Opera. */\n",
              "        border: none;\n",
              "        /* Needs to be in here for Safari polyfill so background images work as expected. */\n",
              "        background-size: auto;\n",
              "    }\n",
              "    progress:not([value]), progress:not([value])::-webkit-progress-bar {\n",
              "        background: repeating-linear-gradient(45deg, #7e7e7e, #7e7e7e 10px, #5c5c5c 10px, #5c5c5c 20px);\n",
              "    }\n",
              "    .progress-bar-interrupted, .progress-bar-interrupted::-webkit-progress-bar {\n",
              "        background: #F44336;\n",
              "    }\n",
              "</style>\n"
            ]
          },
          "metadata": {}
        },
        {
          "output_type": "display_data",
          "data": {
            "text/plain": [
              "<IPython.core.display.HTML object>"
            ],
            "text/html": [
              "\n",
              "    <div>\n",
              "      <progress value='0' class='' max='1' style='width:300px; height:20px; vertical-align: middle;'></progress>\n",
              "      0.00% [0/1 00:00&lt;?]\n",
              "    </div>\n",
              "    \n",
              "<table border=\"1\" class=\"dataframe\">\n",
              "  <thead>\n",
              "    <tr style=\"text-align: left;\">\n",
              "      <th>epoch</th>\n",
              "      <th>train_loss</th>\n",
              "      <th>valid_loss</th>\n",
              "      <th>accuracy</th>\n",
              "      <th>time</th>\n",
              "    </tr>\n",
              "  </thead>\n",
              "  <tbody>\n",
              "  </tbody>\n",
              "</table><p>\n",
              "\n",
              "    <div>\n",
              "      <progress value='295' class='' max='390' style='width:300px; height:20px; vertical-align: middle;'></progress>\n",
              "      75.64% [295/390 03:03&lt;00:59 1.9967]\n",
              "    </div>\n",
              "    "
            ]
          },
          "metadata": {}
        }
      ]
    },
    {
      "cell_type": "code",
      "source": [],
      "metadata": {
        "id": "W3WLT3vXENoG"
      },
      "execution_count": null,
      "outputs": []
    }
  ],
  "metadata": {
    "colab": {
      "provenance": [],
      "gpuType": "T4"
    },
    "kernelspec": {
      "display_name": "Python 3",
      "name": "python3"
    },
    "language_info": {
      "name": "python"
    },
    "gpuClass": "standard"
  },
  "nbformat": 4,
  "nbformat_minor": 0
}